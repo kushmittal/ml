{
 "cells": [
  {
   "cell_type": "markdown",
   "metadata": {
    "colab_type": "text",
    "id": "view-in-github"
   },
   "source": [
    "<a href=\"https://colab.research.google.com/github/Dark-Sied/Intent_Classification/blob/master/Intent_classification_final.ipynb\" target=\"_parent\"><img src=\"https://colab.research.google.com/assets/colab-badge.svg\" alt=\"Open In Colab\"/></a>"
   ]
  },
  {
   "cell_type": "code",
   "execution_count": 1,
   "metadata": {
    "colab": {
     "base_uri": "https://localhost:8080/",
     "height": 34
    },
    "colab_type": "code",
    "id": "a_WypuUXi92e",
    "outputId": "133d026e-4236-4ff6-f21d-739bfb9640db"
   },
   "outputs": [
    {
     "name": "stderr",
     "output_type": "stream",
     "text": [
      "Using TensorFlow backend.\n"
     ]
    }
   ],
   "source": [
    "import numpy as np\n",
    "import pandas as pd\n",
    "from nltk.corpus import stopwords\n",
    "from nltk.tokenize import word_tokenize\n",
    "from nltk.stem.lancaster import LancasterStemmer\n",
    "import nltk\n",
    "import re\n",
    "from sklearn.preprocessing import OneHotEncoder\n",
    "import matplotlib.pyplot as plt\n",
    "from keras.preprocessing.text import Tokenizer\n",
    "from keras.preprocessing.sequence import pad_sequences\n",
    "from keras.utils import to_categorical\n",
    "from keras.models import Sequential, load_model\n",
    "from keras.layers import Dense, LSTM, Bidirectional, Embedding, Dropout\n",
    "from keras.callbacks import ModelCheckpoint\n"
   ]
  },
  {
   "cell_type": "code",
   "execution_count": 286,
   "metadata": {
    "colab": {},
    "colab_type": "code",
    "id": "LE6wywJrN2ih"
   },
   "outputs": [],
   "source": [
    "def load_dataset(filename):\n",
    "  df = pd.read_csv(filename, encoding = \"latin1\", names = [\"Sentence\", \"Intent\"])\n",
    "  print(df.head())\n",
    "  intent = df[\"Intent\"]\n",
    "  unique_intent = list(set(intent))\n",
    "  sentences = list(df[\"Sentence\"])\n",
    "  \n",
    "  return (intent, unique_intent, sentences)\n",
    "  \n"
   ]
  },
  {
   "cell_type": "code",
   "execution_count": 287,
   "metadata": {
    "colab": {
     "base_uri": "https://localhost:8080/",
     "height": 119
    },
    "colab_type": "code",
    "id": "tF0FQA7gjOCX",
    "outputId": "c609b42a-05da-49f5-8d11-bd670210f635",
    "scrolled": true
   },
   "outputs": [
    {
     "name": "stdout",
     "output_type": "stream",
     "text": [
      "                Sentence          Intent\n",
      "0       Need help pleese  commonQ.assist\n",
      "1              Need help  commonQ.assist\n",
      "2       I need some info  commonQ.assist\n",
      "3      Will you help me?  commonQ.assist\n",
      "4  What else can you do?  commonQ.assist\n"
     ]
    }
   ],
   "source": [
    "intent, unique_intent, sentences = load_dataset(\"Dataset.csv\")"
   ]
  },
  {
   "cell_type": "code",
   "execution_count": 288,
   "metadata": {
    "colab": {
     "base_uri": "https://localhost:8080/",
     "height": 34
    },
    "colab_type": "code",
    "id": "O8LLUZlokg0S",
    "outputId": "c15c21dc-2ef2-43b7-b4af-e7ee9e014091"
   },
   "outputs": [
    {
     "name": "stdout",
     "output_type": "stream",
     "text": [
      "['Need help pleese', 'Need help', 'I need some info', 'Will you help me?', 'What else can you do?', 'What do you do?', 'What can you help me with?', 'What can you do?', 'What are you good at?', 'Need help plz', 'How can you help me', 'Can you help me?']\n"
     ]
    }
   ],
   "source": [
    "print(sentences[:12])"
   ]
  },
  {
   "cell_type": "code",
   "execution_count": 289,
   "metadata": {
    "colab": {
     "base_uri": "https://localhost:8080/",
     "height": 102
    },
    "colab_type": "code",
    "id": "MhrziINPGHbW",
    "outputId": "0861af1b-4b82-4c92-b8f4-b6b57bb3e380"
   },
   "outputs": [
    {
     "name": "stderr",
     "output_type": "stream",
     "text": [
      "[nltk_data] Downloading package stopwords to\n",
      "[nltk_data]     /Users/kushagramittal/nltk_data...\n",
      "[nltk_data]   Package stopwords is already up-to-date!\n",
      "[nltk_data] Downloading package punkt to\n",
      "[nltk_data]     /Users/kushagramittal/nltk_data...\n",
      "[nltk_data]   Package punkt is already up-to-date!\n"
     ]
    },
    {
     "data": {
      "text/plain": [
       "True"
      ]
     },
     "execution_count": 289,
     "metadata": {},
     "output_type": "execute_result"
    }
   ],
   "source": [
    "nltk.download(\"stopwords\")\n",
    "nltk.download(\"punkt\")"
   ]
  },
  {
   "cell_type": "code",
   "execution_count": 290,
   "metadata": {
    "colab": {},
    "colab_type": "code",
    "id": "OmNLu2YSXePb"
   },
   "outputs": [],
   "source": [
    "#define stemmer\n",
    "stemmer = LancasterStemmer()"
   ]
  },
  {
   "cell_type": "code",
   "execution_count": 291,
   "metadata": {
    "colab": {},
    "colab_type": "code",
    "id": "j-7q3iG5PKYI"
   },
   "outputs": [],
   "source": [
    "def cleaning(sentences):\n",
    "  words = []\n",
    "  for s in sentences:\n",
    "    clean = re.sub(r'[^ a-z A-Z 0-9]', \" \", s)\n",
    "    w = word_tokenize(clean)\n",
    "    #stemming\n",
    "    words.append([i.lower() for i in w])\n",
    "    \n",
    "  return words  "
   ]
  },
  {
   "cell_type": "code",
   "execution_count": 292,
   "metadata": {
    "colab": {
     "base_uri": "https://localhost:8080/",
     "height": 51
    },
    "colab_type": "code",
    "id": "p1j2GJgDG6qj",
    "outputId": "c7232a8e-6833-4a1d-e71a-4bc7014084a9"
   },
   "outputs": [
    {
     "name": "stdout",
     "output_type": "stream",
     "text": [
      "1175\n",
      "[['need', 'help', 'pleese'], ['need', 'help'], ['i', 'need', 'some', 'info']]\n"
     ]
    }
   ],
   "source": [
    "cleaned_words = cleaning(sentences)\n",
    "print(len(cleaned_words))\n",
    "print(cleaned_words[:3])  \n",
    "  \n"
   ]
  },
  {
   "cell_type": "code",
   "execution_count": 293,
   "metadata": {
    "colab": {},
    "colab_type": "code",
    "id": "SJCQ_YhBJW7t"
   },
   "outputs": [],
   "source": [
    "def create_tokenizer(words, filters = '!\"#$%&()*+,-./:;<=>?@[\\]^_`{|}~'):\n",
    "  token = Tokenizer(filters = filters)\n",
    "  token.fit_on_texts(words)\n",
    "  return token"
   ]
  },
  {
   "cell_type": "code",
   "execution_count": 294,
   "metadata": {
    "colab": {},
    "colab_type": "code",
    "id": "QJhdIJC5Q3Q6"
   },
   "outputs": [],
   "source": [
    "def max_length(words):\n",
    "  return(len(max(words, key = len)))\n",
    "  "
   ]
  },
  {
   "cell_type": "code",
   "execution_count": 295,
   "metadata": {
    "colab": {
     "base_uri": "https://localhost:8080/",
     "height": 34
    },
    "colab_type": "code",
    "id": "JWjxPGsZZJNX",
    "outputId": "b02c8f6b-d0df-4e90-fa3a-2ff730c88300"
   },
   "outputs": [
    {
     "name": "stdout",
     "output_type": "stream",
     "text": [
      "Vocab Size = 509 and Maximum length = 28\n"
     ]
    }
   ],
   "source": [
    "word_tokenizer = create_tokenizer(cleaned_words)\n",
    "vocab_size = len(word_tokenizer.word_index) + 1\n",
    "max_length = max_length(cleaned_words)\n",
    "\n",
    "print(\"Vocab Size = %d and Maximum length = %d\" % (vocab_size, max_length))"
   ]
  },
  {
   "cell_type": "code",
   "execution_count": 296,
   "metadata": {
    "colab": {},
    "colab_type": "code",
    "id": "D0TXu2xsR8jq"
   },
   "outputs": [],
   "source": [
    "def encoding_doc(token, words):\n",
    "  return(token.texts_to_sequences(words))"
   ]
  },
  {
   "cell_type": "code",
   "execution_count": 297,
   "metadata": {
    "colab": {},
    "colab_type": "code",
    "id": "dE92Hk1Va--H"
   },
   "outputs": [],
   "source": [
    "encoded_doc = encoding_doc(word_tokenizer, cleaned_words)"
   ]
  },
  {
   "cell_type": "code",
   "execution_count": 298,
   "metadata": {
    "colab": {},
    "colab_type": "code",
    "id": "fyOzLEboc4LZ"
   },
   "outputs": [],
   "source": [
    "def padding_doc(encoded_doc, max_length):\n",
    "  return(pad_sequences(encoded_doc, maxlen = max_length, padding = \"post\"))"
   ]
  },
  {
   "cell_type": "code",
   "execution_count": 299,
   "metadata": {
    "colab": {},
    "colab_type": "code",
    "id": "WdejoJrlc-tc"
   },
   "outputs": [],
   "source": [
    "padded_doc = padding_doc(encoded_doc, max_length)"
   ]
  },
  {
   "cell_type": "code",
   "execution_count": 300,
   "metadata": {
    "colab": {
     "base_uri": "https://localhost:8080/",
     "height": 272
    },
    "colab_type": "code",
    "id": "gDgTCS2KdI2p",
    "outputId": "ac5332cd-0a0f-4311-8db4-22df92728d90"
   },
   "outputs": [
    {
     "data": {
      "text/plain": [
       "array([[ 25,  80, 348,   0,   0,   0,   0,   0,   0,   0,   0,   0,   0,\n",
       "          0,   0,   0,   0,   0,   0,   0,   0,   0,   0,   0,   0,   0,\n",
       "          0,   0],\n",
       "       [ 25,  80,   0,   0,   0,   0,   0,   0,   0,   0,   0,   0,   0,\n",
       "          0,   0,   0,   0,   0,   0,   0,   0,   0,   0,   0,   0,   0,\n",
       "          0,   0],\n",
       "       [  1,  25, 210, 192,   0,   0,   0,   0,   0,   0,   0,   0,   0,\n",
       "          0,   0,   0,   0,   0,   0,   0,   0,   0,   0,   0,   0,   0,\n",
       "          0,   0],\n",
       "       [ 51,  12,  80,  15,   0,   0,   0,   0,   0,   0,   0,   0,   0,\n",
       "          0,   0,   0,   0,   0,   0,   0,   0,   0,   0,   0,   0,   0,\n",
       "          0,   0],\n",
       "       [  8, 284,   4,  12,  31,   0,   0,   0,   0,   0,   0,   0,   0,\n",
       "          0,   0,   0,   0,   0,   0,   0,   0,   0,   0,   0,   0,   0,\n",
       "          0,   0],\n",
       "       [  8,  31,  12,  31,   0,   0,   0,   0,   0,   0,   0,   0,   0,\n",
       "          0,   0,   0,   0,   0,   0,   0,   0,   0,   0,   0,   0,   0,\n",
       "          0,   0]], dtype=int32)"
      ]
     },
     "execution_count": 300,
     "metadata": {},
     "output_type": "execute_result"
    }
   ],
   "source": [
    "padded_doc[:6]"
   ]
  },
  {
   "cell_type": "code",
   "execution_count": 301,
   "metadata": {
    "colab": {
     "base_uri": "https://localhost:8080/",
     "height": 34
    },
    "colab_type": "code",
    "id": "3eaSIDi0dNf1",
    "outputId": "4ab6b6dd-ffa4-4061-9e9d-7a01decfa837"
   },
   "outputs": [
    {
     "name": "stdout",
     "output_type": "stream",
     "text": [
      "Shape of padded docs =  (1175, 28)\n"
     ]
    }
   ],
   "source": [
    "print(\"Shape of padded docs = \",padded_doc.shape)"
   ]
  },
  {
   "cell_type": "code",
   "execution_count": 302,
   "metadata": {
    "colab": {},
    "colab_type": "code",
    "id": "X0rXzenSpgFR"
   },
   "outputs": [],
   "source": [
    "#tokenizer with filter changed\n",
    "output_tokenizer = create_tokenizer(unique_intent, filters = '!\"#$%&()*+,-/:;<=>?@[\\]^`{|}~')\n"
   ]
  },
  {
   "cell_type": "code",
   "execution_count": 303,
   "metadata": {
    "colab": {
     "base_uri": "https://localhost:8080/",
     "height": 374
    },
    "colab_type": "code",
    "id": "yNHQtkszskxr",
    "outputId": "f5babc01-89e3-4392-e8e6-c9f257de3d07"
   },
   "outputs": [
    {
     "data": {
      "text/plain": [
       "{'faq.biz_new': 1,\n",
       " 'faq.approval_time': 2,\n",
       " 'faq.borrow_use': 3,\n",
       " 'details.array': 4,\n",
       " 'details.array.storage': 5,\n",
       " 'commonq.how': 6,\n",
       " 'faq.biz_simpler': 7,\n",
       " 'faq.application_process': 8,\n",
       " 'details.array.cache': 9,\n",
       " 'faq.borrow_limit': 10,\n",
       " 'commonq.wait': 11,\n",
       " 'faq.aadhaar_missing': 12,\n",
       " 'contact.contact': 13,\n",
       " 'commonq.just_details': 14,\n",
       " 'faq.biz_category_missing': 15,\n",
       " 'commonq.bot': 16,\n",
       " 'details.array.recommdation': 17,\n",
       " 'faq.bad_service': 18,\n",
       " 'commonq.query': 19,\n",
       " 'faq.banking_option_missing': 20,\n",
       " 'commonq.name': 21,\n",
       " 'faq.address_proof': 22,\n",
       " 'commonq.not_giving': 23,\n",
       " 'commonq.assist': 24,\n",
       " 'faq.apply_register': 25}"
      ]
     },
     "execution_count": 303,
     "metadata": {},
     "output_type": "execute_result"
    }
   ],
   "source": [
    "output_tokenizer.word_index"
   ]
  },
  {
   "cell_type": "code",
   "execution_count": 304,
   "metadata": {
    "colab": {},
    "colab_type": "code",
    "id": "7OOx9qdBto1-"
   },
   "outputs": [],
   "source": [
    "encoded_output = encoding_doc(output_tokenizer, intent)"
   ]
  },
  {
   "cell_type": "code",
   "execution_count": 305,
   "metadata": {
    "colab": {},
    "colab_type": "code",
    "id": "0_5Lv5PiyG-z"
   },
   "outputs": [],
   "source": [
    "encoded_output = np.array(encoded_output).reshape(len(encoded_output), 1)"
   ]
  },
  {
   "cell_type": "code",
   "execution_count": 306,
   "metadata": {
    "colab": {
     "base_uri": "https://localhost:8080/",
     "height": 34
    },
    "colab_type": "code",
    "id": "dpM86WrVQlx5",
    "outputId": "71ff52a6-b3d0-4b5c-850d-5dc0a56c8aa9"
   },
   "outputs": [
    {
     "data": {
      "text/plain": [
       "(1175, 1)"
      ]
     },
     "execution_count": 306,
     "metadata": {},
     "output_type": "execute_result"
    }
   ],
   "source": [
    "encoded_output.shape"
   ]
  },
  {
   "cell_type": "code",
   "execution_count": 307,
   "metadata": {
    "colab": {},
    "colab_type": "code",
    "id": "rD3QN-RPzfet"
   },
   "outputs": [],
   "source": [
    "def one_hot(encode):\n",
    "  o = OneHotEncoder(sparse = False)\n",
    "  return(o.fit_transform(encode))"
   ]
  },
  {
   "cell_type": "code",
   "execution_count": 308,
   "metadata": {
    "colab": {},
    "colab_type": "code",
    "id": "Z6wP_Xed7RNR"
   },
   "outputs": [
    {
     "name": "stderr",
     "output_type": "stream",
     "text": [
      "/Users/kushagramittal/anaconda3/lib/python3.7/site-packages/sklearn/preprocessing/_encoders.py:368: FutureWarning: The handling of integer data will change in version 0.22. Currently, the categories are determined based on the range [0, max(values)], while in the future they will be determined based on the unique values.\n",
      "If you want the future behaviour and silence this warning, you can specify \"categories='auto'\".\n",
      "In case you used a LabelEncoder before this OneHotEncoder to convert the categories to integers, then you can now use the OneHotEncoder directly.\n",
      "  warnings.warn(msg, FutureWarning)\n"
     ]
    }
   ],
   "source": [
    "output_one_hot = one_hot(encoded_output)"
   ]
  },
  {
   "cell_type": "code",
   "execution_count": 309,
   "metadata": {
    "colab": {
     "base_uri": "https://localhost:8080/",
     "height": 34
    },
    "colab_type": "code",
    "id": "A6HVslLTHgOM",
    "outputId": "752962df-02d8-409b-fb8f-adb06227161d"
   },
   "outputs": [
    {
     "data": {
      "text/plain": [
       "(1175, 25)"
      ]
     },
     "execution_count": 309,
     "metadata": {},
     "output_type": "execute_result"
    }
   ],
   "source": [
    "output_one_hot.shape"
   ]
  },
  {
   "cell_type": "code",
   "execution_count": 310,
   "metadata": {
    "colab": {},
    "colab_type": "code",
    "id": "EqABUESD7xi9"
   },
   "outputs": [],
   "source": [
    "from sklearn.model_selection import train_test_split"
   ]
  },
  {
   "cell_type": "code",
   "execution_count": 311,
   "metadata": {
    "colab": {},
    "colab_type": "code",
    "id": "h8P4HTz6A4E-"
   },
   "outputs": [],
   "source": [
    "train_X, val_X, train_Y, val_Y = train_test_split(padded_doc, output_one_hot, shuffle = True, test_size = 0.2)\n"
   ]
  },
  {
   "cell_type": "code",
   "execution_count": 312,
   "metadata": {
    "colab": {
     "base_uri": "https://localhost:8080/",
     "height": 51
    },
    "colab_type": "code",
    "id": "7E0uhC2OCtTx",
    "outputId": "6ce0e215-aa3f-43f1-ba5a-0b584b25a35c"
   },
   "outputs": [
    {
     "name": "stdout",
     "output_type": "stream",
     "text": [
      "Shape of train_X = (940, 28) and train_Y = (940, 25)\n",
      "Shape of val_X = (235, 28) and val_Y = (235, 25)\n"
     ]
    }
   ],
   "source": [
    "print(\"Shape of train_X = %s and train_Y = %s\" % (train_X.shape, train_Y.shape))\n",
    "print(\"Shape of val_X = %s and val_Y = %s\" % (val_X.shape, val_Y.shape))"
   ]
  },
  {
   "cell_type": "code",
   "execution_count": 313,
   "metadata": {
    "colab": {},
    "colab_type": "code",
    "id": "e5BU_x74DNEb"
   },
   "outputs": [],
   "source": [
    "def create_model(vocab_size, max_length):\n",
    "  model = Sequential()\n",
    "  model.add(Embedding(vocab_size, 128, input_length = max_length, trainable = False))\n",
    "  model.add(Bidirectional(LSTM(128)))\n",
    "#   model.add(LSTM(128))\n",
    "  model.add(Dense(32, activation = \"relu\"))\n",
    "  model.add(Dropout(0.5))\n",
    "  model.add(Dense(25, activation = \"softmax\"))\n",
    "  \n",
    "  return model"
   ]
  },
  {
   "cell_type": "code",
   "execution_count": 314,
   "metadata": {
    "colab": {
     "base_uri": "https://localhost:8080/",
     "height": 306
    },
    "colab_type": "code",
    "id": "f-NvE0P7MFCe",
    "outputId": "8f07056b-579e-4c15-e1af-bdfa8f681e79"
   },
   "outputs": [
    {
     "name": "stdout",
     "output_type": "stream",
     "text": [
      "_________________________________________________________________\n",
      "Layer (type)                 Output Shape              Param #   \n",
      "=================================================================\n",
      "embedding_8 (Embedding)      (None, 28, 128)           65152     \n",
      "_________________________________________________________________\n",
      "bidirectional_8 (Bidirection (None, 256)               263168    \n",
      "_________________________________________________________________\n",
      "dense_15 (Dense)             (None, 32)                8224      \n",
      "_________________________________________________________________\n",
      "dropout_8 (Dropout)          (None, 32)                0         \n",
      "_________________________________________________________________\n",
      "dense_16 (Dense)             (None, 25)                825       \n",
      "=================================================================\n",
      "Total params: 337,369\n",
      "Trainable params: 272,217\n",
      "Non-trainable params: 65,152\n",
      "_________________________________________________________________\n"
     ]
    }
   ],
   "source": [
    "model = create_model(vocab_size, max_length)\n",
    "\n",
    "model.compile(loss = \"categorical_crossentropy\", optimizer = \"adam\", metrics = [\"accuracy\"])\n",
    "model.summary()"
   ]
  },
  {
   "cell_type": "code",
   "execution_count": 315,
   "metadata": {
    "colab": {
     "base_uri": "https://localhost:8080/",
     "height": 6834
    },
    "colab_type": "code",
    "id": "_r-dxm2sMQ-d",
    "outputId": "3c37b4f8-fc4e-4c82-ab46-2aa1d8b47ffd"
   },
   "outputs": [
    {
     "name": "stdout",
     "output_type": "stream",
     "text": [
      "Train on 940 samples, validate on 235 samples\n",
      "Epoch 1/100\n",
      "940/940 [==============================] - 6s 6ms/step - loss: 3.1163 - acc: 0.0840 - val_loss: 2.9927 - val_acc: 0.1830\n",
      "\n",
      "Epoch 00001: val_loss improved from inf to 2.99269, saving model to model.h5\n",
      "Epoch 2/100\n",
      "940/940 [==============================] - 1s 1ms/step - loss: 3.0152 - acc: 0.1223 - val_loss: 2.8501 - val_acc: 0.1830\n",
      "\n",
      "Epoch 00002: val_loss improved from 2.99269 to 2.85012, saving model to model.h5\n",
      "Epoch 3/100\n",
      "940/940 [==============================] - 1s 1ms/step - loss: 2.9355 - acc: 0.1617 - val_loss: 2.8273 - val_acc: 0.2298\n",
      "\n",
      "Epoch 00003: val_loss improved from 2.85012 to 2.82728, saving model to model.h5\n",
      "Epoch 4/100\n",
      "940/940 [==============================] - 1s 1ms/step - loss: 2.8715 - acc: 0.1628 - val_loss: 2.6870 - val_acc: 0.2085\n",
      "\n",
      "Epoch 00004: val_loss improved from 2.82728 to 2.68699, saving model to model.h5\n",
      "Epoch 5/100\n",
      "940/940 [==============================] - 1s 1ms/step - loss: 2.7938 - acc: 0.1596 - val_loss: 2.5687 - val_acc: 0.2213\n",
      "\n",
      "Epoch 00005: val_loss improved from 2.68699 to 2.56874, saving model to model.h5\n",
      "Epoch 6/100\n",
      "940/940 [==============================] - 1s 1ms/step - loss: 2.7311 - acc: 0.1681 - val_loss: 2.4925 - val_acc: 0.2298\n",
      "\n",
      "Epoch 00006: val_loss improved from 2.56874 to 2.49247, saving model to model.h5\n",
      "Epoch 7/100\n",
      "940/940 [==============================] - 1s 1ms/step - loss: 2.6567 - acc: 0.1883 - val_loss: 2.4180 - val_acc: 0.2426\n",
      "\n",
      "Epoch 00007: val_loss improved from 2.49247 to 2.41796, saving model to model.h5\n",
      "Epoch 8/100\n",
      "940/940 [==============================] - 1s 1ms/step - loss: 2.5552 - acc: 0.2117 - val_loss: 2.3228 - val_acc: 0.2681\n",
      "\n",
      "Epoch 00008: val_loss improved from 2.41796 to 2.32276, saving model to model.h5\n",
      "Epoch 9/100\n",
      "940/940 [==============================] - 1s 1ms/step - loss: 2.4463 - acc: 0.2436 - val_loss: 2.3690 - val_acc: 0.3064\n",
      "\n",
      "Epoch 00009: val_loss did not improve from 2.32276\n",
      "Epoch 10/100\n",
      "940/940 [==============================] - 1s 1ms/step - loss: 2.4392 - acc: 0.2617 - val_loss: 2.1742 - val_acc: 0.3447\n",
      "\n",
      "Epoch 00010: val_loss improved from 2.32276 to 2.17415, saving model to model.h5\n",
      "Epoch 11/100\n",
      "940/940 [==============================] - 1s 1ms/step - loss: 2.2798 - acc: 0.2851 - val_loss: 2.0897 - val_acc: 0.3915\n",
      "\n",
      "Epoch 00011: val_loss improved from 2.17415 to 2.08975, saving model to model.h5\n",
      "Epoch 12/100\n",
      "940/940 [==============================] - 1s 1ms/step - loss: 2.2280 - acc: 0.2957 - val_loss: 2.0144 - val_acc: 0.4213\n",
      "\n",
      "Epoch 00012: val_loss improved from 2.08975 to 2.01442, saving model to model.h5\n",
      "Epoch 13/100\n",
      "940/940 [==============================] - 1s 1ms/step - loss: 2.1416 - acc: 0.3500 - val_loss: 1.8746 - val_acc: 0.4723\n",
      "\n",
      "Epoch 00013: val_loss improved from 2.01442 to 1.87458, saving model to model.h5\n",
      "Epoch 14/100\n",
      "940/940 [==============================] - 1s 1ms/step - loss: 2.0200 - acc: 0.3691 - val_loss: 1.7831 - val_acc: 0.5277\n",
      "\n",
      "Epoch 00014: val_loss improved from 1.87458 to 1.78305, saving model to model.h5\n",
      "Epoch 15/100\n",
      "940/940 [==============================] - 1s 1ms/step - loss: 1.9313 - acc: 0.3979 - val_loss: 1.7521 - val_acc: 0.4936\n",
      "\n",
      "Epoch 00015: val_loss improved from 1.78305 to 1.75209, saving model to model.h5\n",
      "Epoch 16/100\n",
      "940/940 [==============================] - 1s 1ms/step - loss: 1.8999 - acc: 0.4170 - val_loss: 1.6063 - val_acc: 0.5872\n",
      "\n",
      "Epoch 00016: val_loss improved from 1.75209 to 1.60634, saving model to model.h5\n",
      "Epoch 17/100\n",
      "940/940 [==============================] - 1s 1ms/step - loss: 1.8215 - acc: 0.4500 - val_loss: 1.6337 - val_acc: 0.5830\n",
      "\n",
      "Epoch 00017: val_loss did not improve from 1.60634\n",
      "Epoch 18/100\n",
      "940/940 [==============================] - 1s 1ms/step - loss: 1.7942 - acc: 0.4500 - val_loss: 1.5331 - val_acc: 0.5745\n",
      "\n",
      "Epoch 00018: val_loss improved from 1.60634 to 1.53313, saving model to model.h5\n",
      "Epoch 19/100\n",
      "940/940 [==============================] - 1s 1ms/step - loss: 1.6896 - acc: 0.4851 - val_loss: 1.5380 - val_acc: 0.5617\n",
      "\n",
      "Epoch 00019: val_loss did not improve from 1.53313\n",
      "Epoch 20/100\n",
      "940/940 [==============================] - 1s 1ms/step - loss: 1.6692 - acc: 0.4809 - val_loss: 1.5700 - val_acc: 0.5106\n",
      "\n",
      "Epoch 00020: val_loss did not improve from 1.53313\n",
      "Epoch 21/100\n",
      "940/940 [==============================] - 1s 1ms/step - loss: 1.5671 - acc: 0.5245 - val_loss: 1.5155 - val_acc: 0.5489\n",
      "\n",
      "Epoch 00021: val_loss improved from 1.53313 to 1.51549, saving model to model.h5\n",
      "Epoch 22/100\n",
      "940/940 [==============================] - 1s 1ms/step - loss: 1.5255 - acc: 0.5404 - val_loss: 1.4060 - val_acc: 0.6085\n",
      "\n",
      "Epoch 00022: val_loss improved from 1.51549 to 1.40600, saving model to model.h5\n",
      "Epoch 23/100\n",
      "940/940 [==============================] - 1s 1ms/step - loss: 1.4199 - acc: 0.5755 - val_loss: 1.2951 - val_acc: 0.6213\n",
      "\n",
      "Epoch 00023: val_loss improved from 1.40600 to 1.29507, saving model to model.h5\n",
      "Epoch 24/100\n",
      "940/940 [==============================] - 1s 1ms/step - loss: 1.4735 - acc: 0.5404 - val_loss: 1.3455 - val_acc: 0.6340\n",
      "\n",
      "Epoch 00024: val_loss did not improve from 1.29507\n",
      "Epoch 25/100\n",
      "940/940 [==============================] - 1s 1ms/step - loss: 1.4605 - acc: 0.5596 - val_loss: 1.4368 - val_acc: 0.5830\n",
      "\n",
      "Epoch 00025: val_loss did not improve from 1.29507\n",
      "Epoch 26/100\n",
      "940/940 [==============================] - 1s 1ms/step - loss: 1.3755 - acc: 0.5851 - val_loss: 1.2427 - val_acc: 0.6511\n",
      "\n",
      "Epoch 00026: val_loss improved from 1.29507 to 1.24271, saving model to model.h5\n",
      "Epoch 27/100\n",
      "940/940 [==============================] - 1s 1ms/step - loss: 1.3275 - acc: 0.6000 - val_loss: 1.1787 - val_acc: 0.6383\n",
      "\n",
      "Epoch 00027: val_loss improved from 1.24271 to 1.17866, saving model to model.h5\n",
      "Epoch 28/100\n",
      "940/940 [==============================] - 1s 1ms/step - loss: 1.3062 - acc: 0.5957 - val_loss: 1.3779 - val_acc: 0.6000\n",
      "\n",
      "Epoch 00028: val_loss did not improve from 1.17866\n",
      "Epoch 29/100\n",
      "940/940 [==============================] - 1s 1ms/step - loss: 1.2813 - acc: 0.6245 - val_loss: 1.2570 - val_acc: 0.6468\n",
      "\n",
      "Epoch 00029: val_loss did not improve from 1.17866\n",
      "Epoch 30/100\n",
      "940/940 [==============================] - 1s 1ms/step - loss: 1.2371 - acc: 0.6213 - val_loss: 1.1981 - val_acc: 0.6468\n",
      "\n",
      "Epoch 00030: val_loss did not improve from 1.17866\n",
      "Epoch 31/100\n",
      "940/940 [==============================] - 1s 1ms/step - loss: 1.2393 - acc: 0.6160 - val_loss: 1.2317 - val_acc: 0.6128\n",
      "\n",
      "Epoch 00031: val_loss did not improve from 1.17866\n",
      "Epoch 32/100\n",
      "940/940 [==============================] - 1s 1ms/step - loss: 1.1642 - acc: 0.6404 - val_loss: 1.1343 - val_acc: 0.6681\n",
      "\n",
      "Epoch 00032: val_loss improved from 1.17866 to 1.13433, saving model to model.h5\n",
      "Epoch 33/100\n",
      "940/940 [==============================] - 1s 1ms/step - loss: 1.1391 - acc: 0.6606 - val_loss: 1.1833 - val_acc: 0.6809\n",
      "\n",
      "Epoch 00033: val_loss did not improve from 1.13433\n",
      "Epoch 34/100\n",
      "940/940 [==============================] - 1s 1ms/step - loss: 1.0546 - acc: 0.6745 - val_loss: 1.1489 - val_acc: 0.6596\n",
      "\n",
      "Epoch 00034: val_loss did not improve from 1.13433\n",
      "Epoch 35/100\n",
      "940/940 [==============================] - 1s 1ms/step - loss: 1.1225 - acc: 0.6543 - val_loss: 1.1357 - val_acc: 0.6766\n",
      "\n",
      "Epoch 00035: val_loss did not improve from 1.13433\n",
      "Epoch 36/100\n",
      "940/940 [==============================] - 1s 1ms/step - loss: 1.0441 - acc: 0.6915 - val_loss: 1.2303 - val_acc: 0.6851\n",
      "\n",
      "Epoch 00036: val_loss did not improve from 1.13433\n",
      "Epoch 37/100\n",
      "940/940 [==============================] - 1s 1ms/step - loss: 1.0838 - acc: 0.6777 - val_loss: 1.2630 - val_acc: 0.6553\n",
      "\n",
      "Epoch 00037: val_loss did not improve from 1.13433\n",
      "Epoch 38/100\n",
      "940/940 [==============================] - 1s 1ms/step - loss: 1.0800 - acc: 0.6766 - val_loss: 1.2972 - val_acc: 0.6553\n",
      "\n",
      "Epoch 00038: val_loss did not improve from 1.13433\n",
      "Epoch 39/100\n",
      "940/940 [==============================] - 1s 1ms/step - loss: 1.0561 - acc: 0.6830 - val_loss: 1.2732 - val_acc: 0.6638\n",
      "\n",
      "Epoch 00039: val_loss did not improve from 1.13433\n",
      "Epoch 40/100\n",
      "940/940 [==============================] - 1s 1ms/step - loss: 1.0029 - acc: 0.6723 - val_loss: 1.0802 - val_acc: 0.6894\n",
      "\n",
      "Epoch 00040: val_loss improved from 1.13433 to 1.08021, saving model to model.h5\n",
      "Epoch 41/100\n"
     ]
    },
    {
     "name": "stdout",
     "output_type": "stream",
     "text": [
      "940/940 [==============================] - 1s 1ms/step - loss: 0.9604 - acc: 0.7128 - val_loss: 1.0739 - val_acc: 0.6979\n",
      "\n",
      "Epoch 00041: val_loss improved from 1.08021 to 1.07390, saving model to model.h5\n",
      "Epoch 42/100\n",
      "940/940 [==============================] - 1s 1ms/step - loss: 0.9709 - acc: 0.6904 - val_loss: 1.0726 - val_acc: 0.7149\n",
      "\n",
      "Epoch 00042: val_loss improved from 1.07390 to 1.07255, saving model to model.h5\n",
      "Epoch 43/100\n",
      "940/940 [==============================] - 1s 1ms/step - loss: 0.9482 - acc: 0.7117 - val_loss: 1.1336 - val_acc: 0.6851\n",
      "\n",
      "Epoch 00043: val_loss did not improve from 1.07255\n",
      "Epoch 44/100\n",
      "940/940 [==============================] - 1s 1ms/step - loss: 0.9816 - acc: 0.7170 - val_loss: 1.1106 - val_acc: 0.7021\n",
      "\n",
      "Epoch 00044: val_loss did not improve from 1.07255\n",
      "Epoch 45/100\n",
      "940/940 [==============================] - 1s 1ms/step - loss: 0.9354 - acc: 0.7043 - val_loss: 1.0415 - val_acc: 0.7021\n",
      "\n",
      "Epoch 00045: val_loss improved from 1.07255 to 1.04146, saving model to model.h5\n",
      "Epoch 46/100\n",
      "940/940 [==============================] - 1s 1ms/step - loss: 0.9033 - acc: 0.7191 - val_loss: 1.1516 - val_acc: 0.7319\n",
      "\n",
      "Epoch 00046: val_loss did not improve from 1.04146\n",
      "Epoch 47/100\n",
      "940/940 [==============================] - 1s 1ms/step - loss: 0.8459 - acc: 0.7319 - val_loss: 1.0724 - val_acc: 0.7277\n",
      "\n",
      "Epoch 00047: val_loss did not improve from 1.04146\n",
      "Epoch 48/100\n",
      "940/940 [==============================] - 1s 1ms/step - loss: 0.8632 - acc: 0.7298 - val_loss: 1.0113 - val_acc: 0.7574\n",
      "\n",
      "Epoch 00048: val_loss improved from 1.04146 to 1.01129, saving model to model.h5\n",
      "Epoch 49/100\n",
      "940/940 [==============================] - 1s 1ms/step - loss: 0.8337 - acc: 0.7447 - val_loss: 1.1418 - val_acc: 0.7191\n",
      "\n",
      "Epoch 00049: val_loss did not improve from 1.01129\n",
      "Epoch 50/100\n",
      "940/940 [==============================] - 1s 1ms/step - loss: 0.8721 - acc: 0.7351 - val_loss: 1.0850 - val_acc: 0.7277\n",
      "\n",
      "Epoch 00050: val_loss did not improve from 1.01129\n",
      "Epoch 51/100\n",
      "940/940 [==============================] - 1s 1ms/step - loss: 0.8637 - acc: 0.7511 - val_loss: 0.9473 - val_acc: 0.7489\n",
      "\n",
      "Epoch 00051: val_loss improved from 1.01129 to 0.94733, saving model to model.h5\n",
      "Epoch 52/100\n",
      "940/940 [==============================] - 1s 1ms/step - loss: 0.7668 - acc: 0.7617 - val_loss: 0.9240 - val_acc: 0.7660\n",
      "\n",
      "Epoch 00052: val_loss improved from 0.94733 to 0.92397, saving model to model.h5\n",
      "Epoch 53/100\n",
      "940/940 [==============================] - 1s 1ms/step - loss: 0.7999 - acc: 0.7521 - val_loss: 1.1304 - val_acc: 0.7277\n",
      "\n",
      "Epoch 00053: val_loss did not improve from 0.92397\n",
      "Epoch 54/100\n",
      "940/940 [==============================] - 1s 1ms/step - loss: 0.8117 - acc: 0.7596 - val_loss: 1.0130 - val_acc: 0.7447\n",
      "\n",
      "Epoch 00054: val_loss did not improve from 0.92397\n",
      "Epoch 55/100\n",
      "940/940 [==============================] - 1s 1ms/step - loss: 0.7545 - acc: 0.7702 - val_loss: 1.0944 - val_acc: 0.7447\n",
      "\n",
      "Epoch 00055: val_loss did not improve from 0.92397\n",
      "Epoch 56/100\n",
      "940/940 [==============================] - 1s 1ms/step - loss: 0.7848 - acc: 0.7755 - val_loss: 1.1395 - val_acc: 0.7319\n",
      "\n",
      "Epoch 00056: val_loss did not improve from 0.92397\n",
      "Epoch 57/100\n",
      "940/940 [==============================] - 1s 1ms/step - loss: 0.8152 - acc: 0.7564 - val_loss: 1.1284 - val_acc: 0.7234\n",
      "\n",
      "Epoch 00057: val_loss did not improve from 0.92397\n",
      "Epoch 58/100\n",
      "940/940 [==============================] - 1s 1ms/step - loss: 0.8453 - acc: 0.7436 - val_loss: 1.0888 - val_acc: 0.7277\n",
      "\n",
      "Epoch 00058: val_loss did not improve from 0.92397\n",
      "Epoch 59/100\n",
      "940/940 [==============================] - 1s 1ms/step - loss: 0.8189 - acc: 0.7372 - val_loss: 0.9568 - val_acc: 0.7660\n",
      "\n",
      "Epoch 00059: val_loss did not improve from 0.92397\n",
      "Epoch 60/100\n",
      "940/940 [==============================] - 1s 1ms/step - loss: 0.7474 - acc: 0.7511 - val_loss: 0.9335 - val_acc: 0.7319\n",
      "\n",
      "Epoch 00060: val_loss did not improve from 0.92397\n",
      "Epoch 61/100\n",
      "940/940 [==============================] - 1s 1ms/step - loss: 0.6875 - acc: 0.7862 - val_loss: 1.0550 - val_acc: 0.7574\n",
      "\n",
      "Epoch 00061: val_loss did not improve from 0.92397\n",
      "Epoch 62/100\n",
      "940/940 [==============================] - 1s 1ms/step - loss: 0.6636 - acc: 0.8053 - val_loss: 0.9675 - val_acc: 0.7532\n",
      "\n",
      "Epoch 00062: val_loss did not improve from 0.92397\n",
      "Epoch 63/100\n",
      "940/940 [==============================] - 1s 1ms/step - loss: 0.6427 - acc: 0.7883 - val_loss: 1.1501 - val_acc: 0.7489\n",
      "\n",
      "Epoch 00063: val_loss did not improve from 0.92397\n",
      "Epoch 64/100\n",
      "940/940 [==============================] - 1s 1ms/step - loss: 0.6709 - acc: 0.7904 - val_loss: 1.1078 - val_acc: 0.7532\n",
      "\n",
      "Epoch 00064: val_loss did not improve from 0.92397\n",
      "Epoch 65/100\n",
      "940/940 [==============================] - 1s 1ms/step - loss: 0.6994 - acc: 0.7745 - val_loss: 0.9803 - val_acc: 0.7617\n",
      "\n",
      "Epoch 00065: val_loss did not improve from 0.92397\n",
      "Epoch 66/100\n",
      "940/940 [==============================] - 1s 1ms/step - loss: 0.6657 - acc: 0.7883 - val_loss: 1.0579 - val_acc: 0.7362\n",
      "\n",
      "Epoch 00066: val_loss did not improve from 0.92397\n",
      "Epoch 67/100\n",
      "940/940 [==============================] - 1s 1ms/step - loss: 0.6805 - acc: 0.7862 - val_loss: 1.0504 - val_acc: 0.7319\n",
      "\n",
      "Epoch 00067: val_loss did not improve from 0.92397\n",
      "Epoch 68/100\n",
      "940/940 [==============================] - 1s 1ms/step - loss: 0.6745 - acc: 0.7830 - val_loss: 1.0648 - val_acc: 0.7660\n",
      "\n",
      "Epoch 00068: val_loss did not improve from 0.92397\n",
      "Epoch 69/100\n",
      "940/940 [==============================] - 1s 1ms/step - loss: 0.6079 - acc: 0.8096 - val_loss: 0.9725 - val_acc: 0.7617\n",
      "\n",
      "Epoch 00069: val_loss did not improve from 0.92397\n",
      "Epoch 70/100\n",
      "940/940 [==============================] - 1s 1ms/step - loss: 0.6320 - acc: 0.8043 - val_loss: 1.1379 - val_acc: 0.7532\n",
      "\n",
      "Epoch 00070: val_loss did not improve from 0.92397\n",
      "Epoch 71/100\n",
      "940/940 [==============================] - 1s 1ms/step - loss: 0.6439 - acc: 0.8021 - val_loss: 0.9714 - val_acc: 0.7745\n",
      "\n",
      "Epoch 00071: val_loss did not improve from 0.92397\n",
      "Epoch 72/100\n",
      "940/940 [==============================] - 1s 1ms/step - loss: 0.6259 - acc: 0.8053 - val_loss: 0.9871 - val_acc: 0.7532\n",
      "\n",
      "Epoch 00072: val_loss did not improve from 0.92397\n",
      "Epoch 73/100\n",
      "940/940 [==============================] - 1s 1ms/step - loss: 0.5847 - acc: 0.8064 - val_loss: 0.9723 - val_acc: 0.7702\n",
      "\n",
      "Epoch 00073: val_loss did not improve from 0.92397\n",
      "Epoch 74/100\n",
      "940/940 [==============================] - 1s 1ms/step - loss: 0.5774 - acc: 0.8074 - val_loss: 0.9959 - val_acc: 0.7660\n",
      "\n",
      "Epoch 00074: val_loss did not improve from 0.92397\n",
      "Epoch 75/100\n",
      "940/940 [==============================] - 1s 1ms/step - loss: 0.5858 - acc: 0.8074 - val_loss: 1.0244 - val_acc: 0.7574\n",
      "\n",
      "Epoch 00075: val_loss did not improve from 0.92397\n",
      "Epoch 76/100\n",
      "940/940 [==============================] - 1s 1ms/step - loss: 0.5400 - acc: 0.8287 - val_loss: 1.0854 - val_acc: 0.7574\n",
      "\n",
      "Epoch 00076: val_loss did not improve from 0.92397\n",
      "Epoch 77/100\n",
      "940/940 [==============================] - 1s 1ms/step - loss: 0.5468 - acc: 0.8170 - val_loss: 1.0083 - val_acc: 0.7532\n",
      "\n",
      "Epoch 00077: val_loss did not improve from 0.92397\n",
      "Epoch 78/100\n",
      "940/940 [==============================] - 1s 1ms/step - loss: 0.5309 - acc: 0.8298 - val_loss: 1.1608 - val_acc: 0.7574\n",
      "\n",
      "Epoch 00078: val_loss did not improve from 0.92397\n",
      "Epoch 79/100\n",
      "940/940 [==============================] - 1s 1ms/step - loss: 0.5667 - acc: 0.8170 - val_loss: 1.0670 - val_acc: 0.7532\n",
      "\n",
      "Epoch 00079: val_loss did not improve from 0.92397\n",
      "Epoch 80/100\n",
      "940/940 [==============================] - 1s 1ms/step - loss: 0.5670 - acc: 0.8128 - val_loss: 0.9667 - val_acc: 0.7872\n",
      "\n",
      "Epoch 00080: val_loss did not improve from 0.92397\n",
      "Epoch 81/100\n",
      "940/940 [==============================] - 1s 1ms/step - loss: 0.5578 - acc: 0.8128 - val_loss: 1.0061 - val_acc: 0.7702\n",
      "\n",
      "Epoch 00081: val_loss did not improve from 0.92397\n",
      "Epoch 82/100\n",
      "940/940 [==============================] - 1s 1ms/step - loss: 0.5221 - acc: 0.8394 - val_loss: 1.0191 - val_acc: 0.7574\n",
      "\n",
      "Epoch 00082: val_loss did not improve from 0.92397\n",
      "Epoch 83/100\n",
      "940/940 [==============================] - 1s 1ms/step - loss: 0.5257 - acc: 0.8330 - val_loss: 1.0685 - val_acc: 0.7617\n",
      "\n",
      "Epoch 00083: val_loss did not improve from 0.92397\n",
      "Epoch 84/100\n"
     ]
    },
    {
     "name": "stdout",
     "output_type": "stream",
     "text": [
      "940/940 [==============================] - 1s 1ms/step - loss: 0.5495 - acc: 0.8266 - val_loss: 1.0281 - val_acc: 0.7532\n",
      "\n",
      "Epoch 00084: val_loss did not improve from 0.92397\n",
      "Epoch 85/100\n",
      "940/940 [==============================] - 1s 1ms/step - loss: 0.5299 - acc: 0.8234 - val_loss: 1.0546 - val_acc: 0.7830\n",
      "\n",
      "Epoch 00085: val_loss did not improve from 0.92397\n",
      "Epoch 86/100\n",
      "940/940 [==============================] - 1s 1ms/step - loss: 0.5188 - acc: 0.8202 - val_loss: 1.0382 - val_acc: 0.7830\n",
      "\n",
      "Epoch 00086: val_loss did not improve from 0.92397\n",
      "Epoch 87/100\n",
      "940/940 [==============================] - 1s 1ms/step - loss: 0.6272 - acc: 0.7968 - val_loss: 0.8552 - val_acc: 0.7660\n",
      "\n",
      "Epoch 00087: val_loss improved from 0.92397 to 0.85517, saving model to model.h5\n",
      "Epoch 88/100\n",
      "940/940 [==============================] - 1s 999us/step - loss: 0.5740 - acc: 0.8191 - val_loss: 1.0243 - val_acc: 0.7745\n",
      "\n",
      "Epoch 00088: val_loss did not improve from 0.85517\n",
      "Epoch 89/100\n",
      "940/940 [==============================] - 1s 1ms/step - loss: 0.5266 - acc: 0.8298 - val_loss: 1.2449 - val_acc: 0.7277\n",
      "\n",
      "Epoch 00089: val_loss did not improve from 0.85517\n",
      "Epoch 90/100\n",
      "940/940 [==============================] - 1s 1ms/step - loss: 0.5461 - acc: 0.8266 - val_loss: 1.0505 - val_acc: 0.7915\n",
      "\n",
      "Epoch 00090: val_loss did not improve from 0.85517\n",
      "Epoch 91/100\n",
      "940/940 [==============================] - 1s 1ms/step - loss: 0.6462 - acc: 0.8000 - val_loss: 1.1526 - val_acc: 0.7617\n",
      "\n",
      "Epoch 00091: val_loss did not improve from 0.85517\n",
      "Epoch 92/100\n",
      "940/940 [==============================] - 1s 1ms/step - loss: 0.5146 - acc: 0.8362 - val_loss: 1.0836 - val_acc: 0.7617\n",
      "\n",
      "Epoch 00092: val_loss did not improve from 0.85517\n",
      "Epoch 93/100\n",
      "940/940 [==============================] - 1s 1ms/step - loss: 0.5116 - acc: 0.8309 - val_loss: 1.0236 - val_acc: 0.7830\n",
      "\n",
      "Epoch 00093: val_loss did not improve from 0.85517\n",
      "Epoch 94/100\n",
      "940/940 [==============================] - 1s 1ms/step - loss: 0.4854 - acc: 0.8415 - val_loss: 0.9718 - val_acc: 0.7915\n",
      "\n",
      "Epoch 00094: val_loss did not improve from 0.85517\n",
      "Epoch 95/100\n",
      "940/940 [==============================] - 1s 1ms/step - loss: 0.4510 - acc: 0.8585 - val_loss: 1.1098 - val_acc: 0.7830\n",
      "\n",
      "Epoch 00095: val_loss did not improve from 0.85517\n",
      "Epoch 96/100\n",
      "940/940 [==============================] - 1s 1ms/step - loss: 0.4884 - acc: 0.8309 - val_loss: 1.1251 - val_acc: 0.7702\n",
      "\n",
      "Epoch 00096: val_loss did not improve from 0.85517\n",
      "Epoch 97/100\n",
      "940/940 [==============================] - 1s 1ms/step - loss: 0.4845 - acc: 0.8468 - val_loss: 1.1164 - val_acc: 0.7745\n",
      "\n",
      "Epoch 00097: val_loss did not improve from 0.85517\n",
      "Epoch 98/100\n",
      "940/940 [==============================] - 1s 1ms/step - loss: 0.4871 - acc: 0.8394 - val_loss: 1.2526 - val_acc: 0.7872\n",
      "\n",
      "Epoch 00098: val_loss did not improve from 0.85517\n",
      "Epoch 99/100\n",
      "940/940 [==============================] - 1s 1ms/step - loss: 0.4404 - acc: 0.8628 - val_loss: 1.2251 - val_acc: 0.7830\n",
      "\n",
      "Epoch 00099: val_loss did not improve from 0.85517\n",
      "Epoch 100/100\n",
      "940/940 [==============================] - 1s 1ms/step - loss: 0.4634 - acc: 0.8436 - val_loss: 1.2791 - val_acc: 0.7787\n",
      "\n",
      "Epoch 00100: val_loss did not improve from 0.85517\n"
     ]
    }
   ],
   "source": [
    "filename = 'model.h5'\n",
    "checkpoint = ModelCheckpoint(filename, monitor='val_loss', verbose=1, save_best_only=True, mode='min')\n",
    "\n",
    "hist = model.fit(train_X, train_Y, epochs = 100, batch_size = 32, validation_data = (val_X, val_Y), callbacks = [checkpoint])"
   ]
  },
  {
   "cell_type": "code",
   "execution_count": 316,
   "metadata": {
    "colab": {},
    "colab_type": "code",
    "id": "YjXKos8ocXvw"
   },
   "outputs": [],
   "source": [
    " model = load_model(\"model.h5\") "
   ]
  },
  {
   "cell_type": "code",
   "execution_count": 317,
   "metadata": {
    "colab": {},
    "colab_type": "code",
    "id": "qSTEzrlzcuya"
   },
   "outputs": [],
   "source": [
    "def predictions(text):\n",
    "  clean = re.sub(r'[^ a-z A-Z 0-9]', \" \", text)\n",
    "  test_word = word_tokenize(clean)\n",
    "  test_word = [w.lower() for w in test_word]\n",
    "  test_ls = word_tokenizer.texts_to_sequences(test_word)\n",
    "  print(test_word)\n",
    "  #Check for unknown words\n",
    "  if [] in test_ls:\n",
    "    test_ls = list(filter(None, test_ls))\n",
    "    \n",
    "  test_ls = np.array(test_ls).reshape(1, len(test_ls))\n",
    " \n",
    "  x = padding_doc(test_ls, max_length)\n",
    "  \n",
    "  pred = model.predict_proba(x)\n",
    "  \n",
    "  \n",
    "  return pred\n",
    "\n",
    "\n",
    "  "
   ]
  },
  {
   "cell_type": "code",
   "execution_count": 318,
   "metadata": {
    "colab": {},
    "colab_type": "code",
    "id": "P1ddofshmdzK"
   },
   "outputs": [],
   "source": [
    "def get_final_output(pred, classes):\n",
    "  predictions = pred[0]\n",
    " \n",
    "  classes = np.array(classes)\n",
    "  ids = np.argsort(-predictions)\n",
    "  classes = classes[ids]\n",
    "  predictions = -np.sort(-predictions)\n",
    " \n",
    "  for i in range(pred.shape[1]):\n",
    "    print(\"%s has confidence = %s\" % (classes[i], (predictions[i])))\n",
    "\n"
   ]
  },
  {
   "cell_type": "code",
   "execution_count": 320,
   "metadata": {
    "colab": {
     "base_uri": "https://localhost:8080/",
     "height": 391
    },
    "colab_type": "code",
    "id": "23VpGuihMdEU",
    "outputId": "cd36c932-0fb0-4166-92ae-546a7676e645",
    "scrolled": true
   },
   "outputs": [
    {
     "name": "stdout",
     "output_type": "stream",
     "text": [
      "['cache']\n",
      "details.array.cache has confidence = 0.18447202\n",
      "details.array has confidence = 0.13132222\n",
      "commonQ.not_giving has confidence = 0.08407373\n",
      "faq.aadhaar_missing has confidence = 0.07887857\n",
      "commonQ.name has confidence = 0.067223\n",
      "commonQ.assist has confidence = 0.049920447\n",
      "commonQ.bot has confidence = 0.04466487\n",
      "faq.biz_category_missing has confidence = 0.04363832\n",
      "faq.apply_register has confidence = 0.041020535\n",
      "faq.bad_service has confidence = 0.034653425\n",
      "commonQ.just_details has confidence = 0.03195386\n",
      "faq.borrow_limit has confidence = 0.025213074\n",
      "commonQ.how has confidence = 0.024166733\n",
      "details.array.recommdation has confidence = 0.022585457\n",
      "details.array.storage has confidence = 0.022389323\n",
      "commonQ.wait has confidence = 0.019807538\n",
      "faq.address_proof has confidence = 0.018387036\n",
      "faq.biz_new has confidence = 0.018269338\n",
      "contact.contact has confidence = 0.014878928\n",
      "faq.banking_option_missing has confidence = 0.013836922\n",
      "commonQ.query has confidence = 0.012808132\n",
      "faq.application_process has confidence = 0.007751711\n",
      "faq.biz_simpler has confidence = 0.0060574412\n",
      "faq.borrow_use has confidence = 0.0015541613\n",
      "faq.approval_time has confidence = 0.00047314406\n",
      "None\n",
      "[[0.01826934 0.00047314 0.00155416 0.13132222 0.02238932 0.02416673\n",
      "  0.00605744 0.00775171 0.18447202 0.02521307 0.01980754 0.07887857\n",
      "  0.01487893 0.03195386 0.04363832 0.04466487 0.02258546 0.03465343\n",
      "  0.01280813 0.01383692 0.067223   0.01838704 0.08407373 0.04992045\n",
      "  0.04102053]]\n"
     ]
    }
   ],
   "source": [
    "text = \"cache?\"\n",
    "pred = predictions(text)\n",
    "print(get_final_output(pred, unique_intent))\n",
    "print(pred)"
   ]
  },
  {
   "cell_type": "code",
   "execution_count": null,
   "metadata": {
    "colab": {},
    "colab_type": "code",
    "id": "bKUBDT36IHKO"
   },
   "outputs": [],
   "source": []
  },
  {
   "cell_type": "code",
   "execution_count": null,
   "metadata": {},
   "outputs": [],
   "source": []
  }
 ],
 "metadata": {
  "accelerator": "TPU",
  "colab": {
   "collapsed_sections": [],
   "include_colab_link": true,
   "name": "Intent_classification_final.ipynb",
   "provenance": [],
   "version": "0.3.2"
  },
  "kernelspec": {
   "display_name": "Python 3",
   "language": "python",
   "name": "python3"
  },
  "language_info": {
   "codemirror_mode": {
    "name": "ipython",
    "version": 3
   },
   "file_extension": ".py",
   "mimetype": "text/x-python",
   "name": "python",
   "nbconvert_exporter": "python",
   "pygments_lexer": "ipython3",
   "version": "3.7.1"
  }
 },
 "nbformat": 4,
 "nbformat_minor": 2
}
